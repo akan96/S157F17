{
 "cells": [
  {
   "cell_type": "markdown",
   "metadata": {},
   "source": [
    "# Statistics 157: Nonparametric Inference and Sensitivity Auditing with Applications to Social Good\n",
    "\n",
    "## Index to Materials"
   ]
  },
  {
   "cell_type": "markdown",
   "metadata": {},
   "source": [
    "+ [Overview](./overview.ipynb)\n",
    "+ [Mathematical Foundations](./math-foundations.ipynb)\n",
    "+ [Inequalities](./math-inequalities.ipynb)\n",
    "+ [Pseudo-random number generation](./pseudo-random.ipynb)"
   ]
  },
  {
   "cell_type": "markdown",
   "metadata": {},
   "source": [
    "## Bibliography\n",
    "\n",
    "+ https://www.wired.com/story/defining-hate-speech-online-is-imperfect-art-as-much-as-science/\n",
    "+ https://www.wired.com/story/machines-taught-by-photos-learn-a-sexist-view-of-women\n",
    "+ http://onlinelibrary.wiley.com/doi/10.1111/j.1740-9713.2016.00960.x/full\n",
    "+ The _permute_ developer guide: http://statlab.github.io/permute/dev/index.html\n",
    "+ Boring, A., K. Ottoboni, and P.B. Stark, 2016. \n",
    "[Student Evaluations of Teaching (Mostly) Do Not Measure Teaching Effectiveness](https://www.scienceopen.com/document?vid=818d8ec0-5908-47d8-86b4-5dc38f04b23e)\n",
    "+ Pitman, E.J.G., 1937. [Significance Tests Which May be Applied to Samples From any Populations](https://www.jstor.org/stable/2984124?seq=1#page_scan_tab_contents)\n",
    "+ Stark, P.B., and D.A. Freedman, 2001. [What is the Chance of an Earthquake?](https://www.stat.berkeley.edu/~stark/Preprints/611.pdf)\n",
    "+ Stark, P.B., 2016. [Pay no Attention to the Model Behind the Curtain](https://www.stat.berkeley.edu/~stark/Preprints/eucCurtain15.pdf)"
   ]
  }
 ],
 "metadata": {
  "kernelspec": {
   "display_name": "Python 3",
   "language": "python",
   "name": "python3"
  },
  "language_info": {
   "codemirror_mode": {
    "name": "ipython",
    "version": 3
   },
   "file_extension": ".py",
   "mimetype": "text/x-python",
   "name": "python",
   "nbconvert_exporter": "python",
   "pygments_lexer": "ipython3",
   "version": "3.6.1"
  }
 },
 "nbformat": 4,
 "nbformat_minor": 2
}
